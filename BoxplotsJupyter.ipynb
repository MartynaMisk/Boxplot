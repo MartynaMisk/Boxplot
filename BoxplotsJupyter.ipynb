{
 "cells": [
  {
   "cell_type": "markdown",
   "metadata": {},
   "source": [
    "# Box plot Examination \n",
    "\n",
    "Fundamentals of Data Analysis; Project 2018"
   ]
  },
  {
   "cell_type": "markdown",
   "metadata": {},
   "source": [
    "### Overview of the areas of investigation:\n",
    "\n",
    "In this jupyter notebook I will focus my investigation on following areas:\n",
    "\n",
    "1. I will summarise the history of the box plot and situations in which it is used. \n",
    "2. I will demonstrate the use of the box plot using data. \n",
    "3. I will explain any relevant terminology such as the terms quartile and percentile etc. \n",
    "4. I will compare the box plot to alternatives."
   ]
  },
  {
   "cell_type": "markdown",
   "metadata": {},
   "source": [
    "#### 1. History of the box plot and situations where it is used:\n",
    "\n",
    "The box plot is a diagram that consist of five measurements or “Five Number Summary”: (minimum, first quartile, median, third quartile, and maximum) which together display any given data. The below diagram demonstrates eahc measurement in a box plot. \n",
    "“Box and Whisker Plot” was introduced first by an American mathematician John Tukey in 1969 as part of his toolkit for exploratory data analysis (Tukey,1970), but it did not become widely known until formal publication (Tukey, 1977).Since the introduction of box plots they have been used steadily in many disciplines and data analysis, their potential visualization as well as their usage have varied throughout the years.\n",
    "\n",
    "Box plot allows quick graphical examination of data sets and gives you a good indication of how the values in the data are spread out. Box plots are practically useful for comparing distributions between many datasets or when large number of observation is involved because they take up less space and are quickly computable (originally by hand), and have no tuning parameters. Due to their elegance and practicality, boxplots have spawned a wealth of variations and enhancement. \n",
    "Box plot is especially useful for indicating whether a distribution is skewed and whether there are potential unusual observations/outlie in the data set. Box plot do have their restrictions like it does not show a distribution in as much detail as histogram would or a stem and leaf plot. "
   ]
  },
  {
   "cell_type": "code",
   "execution_count": 13,
   "metadata": {},
   "outputs": [],
   "source": [
    "#to import an image I need the Python package\n",
    "from IPython.display import Image"
   ]
  },
  {
   "cell_type": "code",
   "execution_count": 14,
   "metadata": {},
   "outputs": [
    {
     "data": {
      "image/jpeg": "[encoded data removed]",
      "text/plain": [
       "<IPython.core.display.Image object>"
      ]
     },
     "execution_count": 14,
     "metadata": {
      "image/jpeg": {
       "height": 200,
       "width": 400
      }
     },
     "output_type": "execute_result"
    }
   ],
   "source": [
    "img_path = 'C:/Users/I333202/Desktop/BOX2.jpg'\n",
    "Image(img_path, width=400, height=200)"
   ]
  },
  {
   "cell_type": "code",
   "execution_count": 8,
   "metadata": {},
   "outputs": [],
   "source": [
    "#Libraries that will be used:\n",
    "#import libraries \n",
    "import numpy as np\n",
    "import seaborn as sns # seaborn: statistical data visualization\n",
    "import pandas as pd\n",
    "import matplotlib.pyplot as plt"
   ]
  },
  {
   "cell_type": "code",
   "execution_count": null,
   "metadata": {},
   "outputs": [],
   "source": []
  },
  {
   "cell_type": "code",
   "execution_count": null,
   "metadata": {},
   "outputs": [],
   "source": []
  },
  {
   "cell_type": "code",
   "execution_count": null,
   "metadata": {},
   "outputs": [],
   "source": []
  },
  {
   "cell_type": "code",
   "execution_count": 9,
   "metadata": {},
   "outputs": [],
   "source": [
    "#import the dataset\n",
    "# I copied this csv file which is based on Breast Cancer Wisconsin (Diagnostic) Data Set from Kaggle account\n",
    "# Predict whether the cancer is benign or malignant\n",
    "df = pd.read_csv('https://raw.githubusercontent.com/MartynaMisk/Boxplot/master/breastcancer.csv')"
   ]
  },
  {
   "cell_type": "markdown",
   "metadata": {},
   "source": [
    "- Brief explanation of the dataset I chosed to use\n",
    "This data set was created in 1990's by Dr. William H. Wolberg to find out can cancer be predicted by FNA (fine needle aspiration procedure).\n",
    "\n",
    "Following box plots will demonstarte grouping in numerical data through plotting outliers as individual points. The Wisconsin breast cancer dataset will demonstarte the outliers we want to see in the box plot."
   ]
  },
  {
   "cell_type": "code",
   "execution_count": 10,
   "metadata": {},
   "outputs": [
    {
     "data": {
      "text/plain": [
       "<matplotlib.axes._subplots.AxesSubplot at 0x1c0420f2710>"
      ]
     },
     "execution_count": 10,
     "metadata": {},
     "output_type": "execute_result"
    },
    {
     "data": {
      "image/png": "[encoded data removed]",
      "text/plain": [
       "<Figure size 432x288 with 1 Axes>"
      ]
     },
     "metadata": {
      "needs_background": "light"
     },
     "output_type": "display_data"
    }
   ],
   "source": [
    "# this is plotting it using seaborn \n",
    "# https://towardsdatascience.com/understanding-boxplots-5e2df7bcbd51 \n",
    "sns.boxplot(x='diagnosis', y='area_mean', data=df)"
   ]
  },
  {
   "cell_type": "code",
   "execution_count": 11,
   "metadata": {},
   "outputs": [
    {
     "ename": "SyntaxError",
     "evalue": "invalid syntax (<ipython-input-11-47a05d6eebec>, line 1)",
     "output_type": "error",
     "traceback": [
      "\u001b[1;36m  File \u001b[1;32m\"<ipython-input-11-47a05d6eebec>\"\u001b[1;36m, line \u001b[1;32m1\u001b[0m\n\u001b[1;33m    I need to understand how to read the box plot to read this\u001b[0m\n\u001b[1;37m         ^\u001b[0m\n\u001b[1;31mSyntaxError\u001b[0m\u001b[1;31m:\u001b[0m invalid syntax\n"
     ]
    }
   ],
   "source": [
    "I need to understand how to read the box plot to read this\n",
    "can i even use this code?"
   ]
  },
  {
   "cell_type": "code",
   "execution_count": null,
   "metadata": {},
   "outputs": [],
   "source": [
    "sns.boxplot( y=df['radius_mean'])\n",
    "# Make boxplot for one group only"
   ]
  },
  {
   "cell_type": "code",
   "execution_count": null,
   "metadata": {},
   "outputs": [],
   "source": [
    "# this is plotting it using pandas\n",
    "sns.boxplot(x='diagnosis', y='area_mean', data=df) #passes the pandas dataframe df into seaborn’s "
   ]
  },
  {
   "cell_type": "code",
   "execution_count": null,
   "metadata": {},
   "outputs": [],
   "source": [
    "malignant = df[df['diagnosis']=='M']['area_mean']\n",
    "benign = df[df['diagnosis']=='B']['area_mean']\n",
    "fig = plt.figure()\n",
    "ax = fig.add_subplot(111)\n",
    "ax.boxplot([malignant,benign], labels=['M', 'B'])"
   ]
  },
  {
   "cell_type": "code",
   "execution_count": null,
   "metadata": {},
   "outputs": [],
   "source": [
    "https://www.inertia7.com/projects/3"
   ]
  },
  {
   "cell_type": "code",
   "execution_count": null,
   "metadata": {},
   "outputs": [],
   "source": []
  },
  {
   "cell_type": "code",
   "execution_count": null,
   "metadata": {},
   "outputs": [],
   "source": []
  },
  {
   "cell_type": "code",
   "execution_count": null,
   "metadata": {},
   "outputs": [],
   "source": []
  },
  {
   "cell_type": "code",
   "execution_count": null,
   "metadata": {},
   "outputs": [],
   "source": []
  },
  {
   "cell_type": "code",
   "execution_count": null,
   "metadata": {},
   "outputs": [],
   "source": []
  },
  {
   "cell_type": "markdown",
   "metadata": {},
   "source": [
    "### References\n",
    "1. Hisotry https://en.wikipedia.org/wiki/File:Michelsonmorley-boxplot.svg \n",
    "2. Image https://pro.arcgis.com/en/pro-app/help/analysis/geoprocessing/charts/box-plot.htm\n",
    "3. Paper http://vita.had.co.nz/papers/boxplots.pdf \n",
    "4. How to create a boxplot https://chartio.com/resources/tutorials/what-is-a-box-plot/  \n",
    "5. breast cancer csv https://www.kaggle.com/uciml/breast-cancer-wisconsin-data\n",
    "6. https://towardsdatascience.com/understanding-boxplots-5e2df7bcbd51\n",
    "7. python gallary https://python-graph-gallery.com/30-basic-boxplot-with-seaborn/"
   ]
  },
  {
   "cell_type": "code",
   "execution_count": null,
   "metadata": {},
   "outputs": [],
   "source": []
  }
 ],
 "metadata": {
  "kernelspec": {
   "display_name": "Python 3",
   "language": "python",
   "name": "python3"
  },
  "language_info": {
   "codemirror_mode": {
    "name": "ipython",
    "version": 3
   },
   "file_extension": ".py",
   "mimetype": "text/x-python",
   "name": "python",
   "nbconvert_exporter": "python",
   "pygments_lexer": "ipython3",
   "version": "3.7.0"
  }
 },
 "nbformat": 4,
 "nbformat_minor": 2
}
